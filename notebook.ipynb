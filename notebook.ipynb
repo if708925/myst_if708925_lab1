{
 "cells": [
  {
   "cell_type": "markdown",
   "metadata": {
    "collapsed": true
   },
   "source": [
    "<img src=\"http://www.redage.org/sites/default/files/styles/large/public/img-logo-institucion/logo_iteso.jpg?itok=IzloBJS1\">"
   ]
  },
  {
   "cell_type": "markdown",
   "metadata": {},
   "source": [
    "# Ingeniería Financiera\n",
    "## ITE1731 - Microestructura y Sistemas de Trading\n",
    "## IF Sophia Ortega Lares\n",
    "### Septiembre 2020|Repositorio: https://github.com/if708925/myst_if708925_lab1"
   ]
  },
  {
   "cell_type": "markdown",
   "metadata": {},
   "source": [
    "## Abstract\n",
    "#### Este documento fue elaborado por Sophia Ortega Lares como un trabajo parcial para la materia de Microestructura y Sistemas de Trading - ITE1731, la cual es parte del currículum de la licenciatura en Ingeniería Financiera, ofertada por la universidad ITESO. En el presente trabajo se plantea la respuesta a la siguiente pregunta: ¿Qué estrategia de inversión propondrías si tu trabajo fuera administrar 1 millón de pesos?"
   ]
  },
  {
   "cell_type": "markdown",
   "metadata": {},
   "source": [
    "# Laboratorio 1\n",
    "#### Inversión de Capital"
   ]
  },
  {
   "cell_type": "markdown",
   "metadata": {},
   "source": [
    "# 0. Librerías y Dependencias\n",
    "## 0.1 Librerías\n",
    "##### Para correr este Notebook es necesario tener instaladas y/o en el archivo requirements.txt las siguientes librerias:\n",
    "##### pandas>=1.1.0\n",
    "##### numpy>=1.19.1\n",
    "##### jupyter>=1.0.0\n",
    "##### yfinance>=0.1.54\n",
    "##### matplotlib>=3.3.1"
   ]
  },
  {
   "cell_type": "markdown",
   "metadata": {},
   "source": [
    "## 0.2 Dependencias\n",
    "##### Para correr este Notebook es necesario contar con los siguientes archivos y dependencias externas:\n",
    "##### files/precios.csv : Precios históricos\n",
    "##### files/datos.txt : Otros datos históricos\n"
   ]
  },
  {
   "cell_type": "markdown",
   "metadata": {},
   "source": [
    "# 1. Introducción\n",
    "#### A menudo los financieros se topan con el dilema de: ¿que tipo de estrategia de inversión utilizar para admnistrar portafolios de inversión? Es muy complicado encontrar el balance entre riesgo, utilidad y costo. Y dependiendo de l ambiente en el que se desarrolle hay mas variables que se tienen que tomar en cuenta a la hora de la toma de decisiones, por esto elegir entre una estrategia pasiva y una activa puede ser un gran reto.\n",
    "#### Claro que cada estrategia tiene ventajas y desventajas, una estrategia pasiva tiende a hacer más sencillo el trabajo de los administradores de portafolios, y si esto sucede, ocasiona una disminución en los márgenes al tener que competir por los precios.\n",
    "#### Por otro lado una estrategia pasiva en mercados emergentes puede ser una buena opción, pues los costos de transacción tienden a ser muy elevados para optar por una estrategia de inversión activa, además de que el costo de tomar malas decisiones al elegir al administrador es más elevado.\n",
    "#### Pero hay una cuestión muy importante a tomar en cuenta al elegir la estrategia pasiva: no hay una disciplina de evaluación, el anadir una acción al índice no depende de ningún tipo de evaluación, y esto a menudo puede ser peligroso si hay acciones en el índice que están infladas.\n",
    "#### En cambio, la estrategia activa requiere un buen manejo de la volatilidad, de manera que el administrador pueda adaptar su estrategia a sacarle provecho a los cambios en el mercado, precisamente diversificando el portafolio y comprando y vendiendo cada que se llega al objetivo. \n",
    "#### Pero esto tambien puede significar una desventaja al trabajar en contra de la oportunidad de que un sector individual te puede dar mas utilidad que el mercado en general, en otras palabras: la inversión activa podría significar una falta de paciencia de administradores que se concentran solo en utilidades relativas a un “benchmark”, en vez de utilidades absolutas, y que además no protegen el capital del cliente al trabajar con una estrategia que consiste en solo seguir al mercado\n"
   ]
  },
  {
   "cell_type": "markdown",
   "metadata": {},
   "source": [
    "# 2. Objetivo\n",
    "#### El objetivo del primer laboratorio consiste en entender la diferencia entre la inversión activa y la inversión pasiva, se pretende realizar 2 series de tiempo: La primer serie de tiempo representando la evolución del capital si se realizara una estrategia de inversión pasiva, y la segunda representa la evolución del capital de la estrategia de Inversión Activa.\n"
   ]
  },
  {
   "cell_type": "markdown",
   "metadata": {},
   "source": [
    "# 3.Datos utilizados\n"
   ]
  },
  {
   "cell_type": "markdown",
   "metadata": {},
   "source": [
    "# 4.Procesos\n"
   ]
  },
  {
   "cell_type": "code",
   "execution_count": 6,
   "metadata": {},
   "outputs": [],
   "source": [
    "import os\n",
    "import numpy as np\n",
    "import pandas as pd\n",
    "import time\n",
    "import yfinance as yf\n",
    "import matplotlib.pyplot as plt\n",
    "from datetime import datetime\n",
    "# 1.1 Obtener la lista de los archivos a leer data.py\n",
    "#%%\n",
    "path = '/Users/Catalina/Documents/ITESO/MST/myst_if708925_lab1/files/NAFTRAC_holdings'\n",
    "abspath = os.path.abspath(path)\n",
    "archivos = [f[:-4] for f in os.listdir(abspath) if os.path.isfile(os.path.join(abspath, f))]"
   ]
  },
  {
   "cell_type": "code",
   "execution_count": 7,
   "metadata": {},
   "outputs": [],
   "source": [
    "# 1.2 leer todos los archivos y guardarlos en un diccionario functions.py\n",
    "data_archivos = {}\n",
    "for i in archivos:\n",
    "    # i = achivos[0]\n",
    "    # leer archivos despues de los primeros 2 renglones\n",
    "    data = pd.read_csv('files/NAFTRAC_holdings/' + i + '.csv', skiprows=2, header=None)\n",
    "    # renombrar columnas\n",
    "    data.columns = list(data.iloc[0, :])\n",
    "    data = data.loc[:, pd.notnull(data.columns)]\n",
    "    data = data.iloc[1:-1].reset_index(drop=True, inplace=False)\n",
    "    # quitar comas\n",
    "    data['Precio'] = [i.replace(',','') for i in data['Precio']]\n",
    "    # quitar asteriscos\n",
    "    data['Ticker'] = [i.replace('*','') for i in data['Ticker']]\n",
    "    convert_dict = {'Ticker': str, 'Nombre': str, 'Peso (%)': float, 'Precio': float}\n",
    "    data = data.astype(convert_dict)\n",
    "    # convertir a decimal la columna de peso\n",
    "    data['Peso (%)'] = data['Peso (%)']/100\n",
    "    # guardar en diccionario\n",
    "    data_archivos[i] = data"
   ]
  },
  {
   "cell_type": "code",
   "execution_count": 8,
   "metadata": {},
   "outputs": [],
   "source": [
    "# 1.3 Construir el vector de fechas a partir del vector de nombres de archivos functions.py\n",
    "# sirve como etiqueta en dataframe y para yfinance\n",
    "t_fechas = [i.strftime('%d-%m-%Y') for i in sorted([pd.to_datetime(i[8:]).date() for i in archivos])]\n",
    "#lista con fechas ordenadas para usarse como indexadores de archivos\n",
    "i_fechas = [j.strftime('%Y-%m-%d') for j in sorted([pd.to_datetime(i[8:]).date() for i in archivos])]"
   ]
  },
  {
   "cell_type": "code",
   "execution_count": 9,
   "metadata": {},
   "outputs": [
    {
     "name": "stdout",
     "output_type": "stream",
     "text": [
      "['AMXL', 'WALMEX', 'FEMSAUBD', 'GFNORTEO', 'GMEXICOB', 'CEMEXCPO', 'TLEVISACPO', 'ELEKTRA', 'GAPB', 'BIMBOA', 'GRUMAB', 'KIMBERA', 'KOFUBL', 'ASURB', 'AC', 'PE&OLES', 'ALFAA', 'ORBIA', 'GFINBURO', 'PINFRA', 'OMAB', 'IENOVA', 'BOLSAA', 'CUERVO', 'GCARSOA1', 'MEGACPO', 'VESTA', 'LABB', 'Q', 'BBAJIOO', 'ALSEA', 'LIVEPOLC.1', 'BSMXB', 'GENTERA', 'MXN', 'RA']\n",
      "['AMXL', 'FEMSAUBD', 'GFNORTEO', 'GMEXICOB', 'WALMEX', 'CEMEXCPO', 'TLEVISACPO', 'ALFAA', 'GAPB', 'ASURB', 'KOFL', 'MEXCHEM', 'BIMBOA', 'AC', 'KIMBERA', 'GFINBURO', 'IENOVA', 'GRUMAB', 'BSMXB', 'PINFRA', 'PE&OLES', 'ELEKTRA', 'OMAB', 'ALSEA', 'GCARSOA1', 'MEGACPO', 'LIVEPOLC.1', 'CUERVO', 'GENTERA', 'VOLARA', 'LALAB', 'LABB', 'GFREGIOO', 'ALPEKA', 'NEMAKA', 'MXN']\n",
      "['FEMSAUBD', 'AMXL', 'GFNORTEO', 'WALMEX', 'GMEXICOB', 'CEMEXCPO', 'TLEVISACPO', 'BIMBOA', 'ALFAA', 'ASURB', 'GAPB', 'GFINBURO', 'KOFL', 'ELEKTRA', 'MEXCHEM', 'BSMXB', 'KIMBERA', 'GRUMAB', 'AC', 'PINFRA', 'IENOVA', 'OMAB', 'PE&OLES', 'MEGACPO', 'BBAJIOO', 'ALSEA', 'LIVEPOLC.1', 'GCC', 'GMXT', 'GENTERA', 'CUERVO', 'LALAB', 'MXN', 'ALPEKA', 'RA', 'LABB']\n",
      "['AMXL', 'FEMSAUBD', 'WALMEX', 'GFNORTEO', 'GMEXICOB', 'CEMEXCPO', 'TLEVISACPO', 'GAPB', 'ELEKTRA', 'ASURB', 'KOFUBL', 'KIMBERA', 'AC', 'GFINBURO', 'IENOVA', 'OMAB', 'BIMBOA', 'PINFRA', 'GRUMAB', 'ORBIA', 'ALFAA', 'GCARSOA1', 'BBAJIOO', 'PE&OLES', 'ALSEA', 'MEGACPO', 'GENTERA', 'BOLSAA', 'LIVEPOLC.1', 'GCC', 'CUERVO', 'LABB', 'BSMXB', 'RA', 'MXN', 'ALPEKA']\n",
      "['AMXL', 'FEMSAUBD', 'GFNORTEO', 'WALMEX', 'GMEXICOB', 'CEMEXCPO', 'TLEVISACPO', 'ALFAA', 'GAPB', 'ASURB', 'KOFL', 'MEXCHEM', 'AC', 'GFINBURO', 'KIMBERA', 'BIMBOA', 'IENOVA', 'BSMXB', 'GRUMAB', 'PINFRA', 'PE&OLES', 'ELEKTRA', 'OMAB', 'ALSEA', 'LIVEPOLC.1', 'MEGACPO', 'GCARSOA1', 'CUERVO', 'GMXT', 'GENTERA', 'VOLARA', 'LALAB', 'GFREGIOO', 'ALPEKA', 'NEMAKA', 'MXN', 'USD']\n",
      "['FEMSAUBD', 'AMXL', 'GFNORTEO', 'WALMEX', 'GMEXICOB', 'CEMEXCPO', 'BIMBOA', 'GAPB', 'ELEKTRA', 'TLEVISACPO', 'ASURB', 'GFINBURO', 'KOFUBL', 'ALFAA', 'KIMBERA', 'BSMXB', 'PINFRA', 'MEXCHEM', 'OMAB', 'AC', 'IENOVA', 'GRUMAB', 'GCARSOA1', 'PE&OLES', 'BBAJIOO', 'MEGACPO', 'LIVEPOLC.1', 'ALSEA', 'GCC', 'GENTERA', 'CUERVO', 'BOLSAA', 'LABB', 'ALPEKA', 'RA', 'MXN']\n",
      "['GFNORTEO', 'AMXL', 'FEMSAUBD', 'WALMEX', 'GMEXICOB', 'CEMEXCPO', 'TLEVISACPO', 'ASURB', 'GAPB', 'BIMBOA', 'ALFAA', 'GFINBURO', 'MEXCHEM', 'KOFL', 'BSMXB', 'GRUMAB', 'IENOVA', 'ELEKTRA', 'KIMBERA', 'AC', 'OMAB', 'PINFRA', 'PE&OLES', 'ALSEA', 'BBAJIOO', 'MEGACPO', 'LIVEPOLC.1', 'GCC', 'GMXT', 'GENTERA', 'CUERVO', 'LALAB', 'ALPEKA', 'LABB', 'RA', 'MXN', 'USD']\n",
      "['FEMSAUBD', 'AMXL', 'GFNORTEO', 'WALMEX', 'GMEXICOB', 'CEMEXCPO', 'TLEVISACPO', 'BIMBOA', 'KOFL', 'ASURB', 'GAPB', 'ALFAA', 'GFINBURO', 'ELEKTRA', 'MEXCHEM', 'KIMBERA', 'BSMXB', 'PINFRA', 'AC', 'IENOVA', 'GRUMAB', 'OMAB', 'GCARSOA1', 'PE&OLES', 'MEGACPO', 'BBAJIOO', 'LIVEPOLC.1', 'ALSEA', 'BOLSAA', 'GCC', 'CUERVO', 'GENTERA', 'ALPEKA', 'LABB', 'RA', 'MXN']\n",
      "['AMXL', 'WALMEX', 'FEMSAUBD', 'GFNORTEO', 'GMEXICOB', 'CEMEXCPO', 'ELEKTRA', 'TLEVISACPO', 'GAPB', 'BIMBOA', 'KOFUBL', 'GRUMAB', 'KIMBERA', 'ASURB', 'AC', 'PINFRA', 'OMAB', 'ALFAA', 'GFINBURO', 'ORBIA', 'IENOVA', 'PE&OLES', 'GCARSOA1', 'MEGACPO', 'CUERVO', 'BOLSAA', 'VESTA', 'Q', 'LABB', 'BBAJIOO', 'LIVEPOLC.1', 'ALSEA', 'GENTERA', 'BSMXB', 'MXN', 'RA']\n",
      "['AMXL', 'FEMSAUBD', 'GFNORTEO', 'WALMEX', 'GMEXICOB', 'CEMEXCPO', 'TLEVISACPO', 'ALFAA', 'GAPB', 'ASURB', 'MEXCHEM', 'KOFL', 'GRUMAB', 'AC', 'KIMBERA', 'IENOVA', 'BSMXB', 'BIMBOA', 'GFINBURO', 'PINFRA', 'ELEKTRA', 'OMAB', 'PE&OLES', 'ALSEA', 'GCARSOA1', 'MEGACPO', 'LIVEPOLC.1', 'GMXT', 'GENTERA', 'CUERVO', 'RA', 'ALPEKA', 'LALAB', 'VOLARA', 'NEMAKA', 'MXN', 'USD']\n",
      "['AMXL', 'FEMSAUBD', 'WALMEX', 'GFNORTEO', 'GMEXICOB', 'CEMEXCPO', 'TLEVISACPO', 'ELEKTRA', 'GAPB', 'ASURB', 'KOFUBL', 'KIMBERA', 'GFINBURO', 'BIMBOA', 'AC', 'OMAB', 'GRUMAB', 'ALFAA', 'ORBIA', 'IENOVA', 'PINFRA', 'GCARSOA1', 'ALSEA', 'PE&OLES', 'BBAJIOO', 'MEGACPO', 'GENTERA', 'LIVEPOLC.1', 'BOLSAA', 'CUERVO', 'GCC', 'BSMXB', 'LABB', 'MXN', 'RA', 'ALPEKA']\n",
      "['AMXL', 'FEMSAUBD', 'GFNORTEO', 'WALMEX', 'GMEXICOB', 'CEMEXCPO', 'TLEVISACPO', 'ALFAA', 'GAPB', 'ASURB', 'KOFL', 'MEXCHEM', 'BIMBOA', 'AC', 'GFINBURO', 'GRUMAB', 'KIMBERA', 'BSMXB', 'IENOVA', 'PINFRA', 'PE&OLES', 'ELEKTRA', 'OMAB', 'ALSEA', 'GCARSOA1', 'MEGACPO', 'LIVEPOLC.1', 'GMXT', 'CUERVO', 'GENTERA', 'RA', 'LALAB', 'VOLARA', 'ALPEKA', 'NEMAKA', 'MXN']\n",
      "['GFNORTEO', 'FEMSAUBD', 'AMXL', 'WALMEX', 'GMEXICOB', 'CEMEXCPO', 'TLEVISACPO', 'BIMBOA', 'GAPB', 'GFINBURO', 'KOFUBL', 'ASURB', 'ALFAA', 'ELEKTRA', 'BSMXB', 'KIMBERA', 'MEXCHEM', 'IENOVA', 'PINFRA', 'AC', 'OMAB', 'GRUMAB', 'GCARSOA1', 'BBAJIOO', 'PE&OLES', 'MEGACPO', 'LIVEPOLC.1', 'ALSEA', 'BOLSAA', 'GCC', 'GENTERA', 'CUERVO', 'LABB', 'RA', 'MXN', 'ALPEKA']\n",
      "['AMXL', 'WALMEX', 'FEMSAUBD', 'GMEXICOB', 'GFNORTEO', 'ELEKTRA', 'CEMEXCPO', 'TLEVISACPO', 'GAPB', 'BIMBOA', 'GRUMAB', 'KOFUBL', 'ASURB', 'KIMBERA', 'AC', 'IENOVA', 'PINFRA', 'GFINBURO', 'OMAB', 'ORBIA', 'ALFAA', 'PE&OLES', 'GCARSOA1', 'BOLSAA', 'CUERVO', 'VESTA', 'Q', 'MEGACPO', 'LABB', 'BBAJIOO', 'LIVEPOLC.1', 'ALSEA', 'GENTERA', 'BSMXB', 'RA', 'MXN']\n",
      "['AMXL', 'WALMEX', 'FEMSAUBD', 'GFNORTEO', 'GMEXICOB', 'CEMEXCPO', 'ELEKTRA', 'GAPB', 'TLEVISACPO', 'BIMBOA', 'GRUMAB', 'KOFUBL', 'ASURB', 'KIMBERA', 'AC', 'OMAB', 'PINFRA', 'ALFAA', 'GFINBURO', 'IENOVA', 'ORBIA', 'PE&OLES', 'CUERVO', 'GCARSOA1', 'MEGACPO', 'BOLSAA', 'VESTA', 'LABB', 'Q', 'BBAJIOO', 'ALSEA', 'GENTERA', 'LIVEPOLC.1', 'BSMXB', 'RA', 'MXN']\n",
      "['AMXL', 'FEMSAUBD', 'GFNORTEO', 'WALMEX', 'GMEXICOB', 'CEMEXCPO', 'ELEKTRA', 'TLEVISACPO', 'GAPB', 'BIMBOA', 'KOFUBL', 'ASURB', 'KIMBERA', 'GFINBURO', 'ALFAA', 'IENOVA', 'BSMXB', 'AC', 'OMAB', 'GRUMAB', 'MEXCHEM', 'PINFRA', 'PE&OLES', 'GCARSOA1', 'MEGACPO', 'BBAJIOO', 'ALSEA', 'LIVEPOLC.1', 'GCC', 'BOLSAA', 'CUERVO', 'GENTERA', 'MXN', 'LABB', 'ALPEKA', 'RA']\n",
      "['AMXL', 'FEMSAUBD', 'WALMEX', 'GFNORTEO', 'GMEXICOB', 'CEMEXCPO', 'TLEVISACPO', 'ELEKTRA', 'GAPB', 'KOFUBL', 'ASURB', 'KIMBERA', 'GFINBURO', 'BIMBOA', 'ALFAA', 'AC', 'GRUMAB', 'IENOVA', 'OMAB', 'PINFRA', 'ORBIA', 'PE&OLES', 'GCARSOA1', 'MEGACPO', 'BBAJIOO', 'ALSEA', 'LIVEPOLC.1', 'GCC', 'GENTERA', 'BOLSAA', 'CUERVO', 'LABB', 'BSMXB', 'RA', 'ALPEKA', 'MXN']\n",
      "['FEMSAUBD', 'AMXL', 'GFNORTEO', 'WALMEX', 'CEMEXCPO', 'GMEXICOB', 'TLEVISACPO', 'BIMBOA', 'KOFL', 'ALFAA', 'GFINBURO', 'ASURB', 'GAPB', 'ELEKTRA', 'MEXCHEM', 'GRUMAB', 'KIMBERA', 'BSMXB', 'AC', 'IENOVA', 'PINFRA', 'OMAB', 'PE&OLES', 'MEGACPO', 'ALSEA', 'BBAJIOO', 'LIVEPOLC.1', 'GCC', 'GENTERA', 'GMXT', 'CUERVO', 'MXN', 'LALAB', 'ALPEKA', 'LABB', 'RA']\n",
      "['AMXL', 'FEMSAUBD', 'GFNORTEO', 'WALMEX', 'GMEXICOB', 'CEMEXCPO', 'TLEVISACPO', 'ALFAA', 'GAPB', 'ASURB', 'KOFL', 'BIMBOA', 'MEXCHEM', 'AC', 'GFINBURO', 'IENOVA', 'BSMXB', 'KIMBERA', 'GRUMAB', 'ELEKTRA', 'PINFRA', 'PE&OLES', 'OMAB', 'GCARSOA1', 'LIVEPOLC.1', 'MEGACPO', 'ALSEA', 'CUERVO', 'GENTERA', 'LALAB', 'VOLARA', 'LABB', 'GFREGIOO', 'ALPEKA', 'NEMAKA', 'MXN']\n",
      "['AMXL', 'FEMSAUBD', 'GFNORTEO', 'WALMEX', 'GMEXICOB', 'CEMEXCPO', 'TLEVISACPO', 'ALFAA', 'BIMBOA', 'ASURB', 'GAPB', 'KOFL', 'GFINBURO', 'ELEKTRA', 'MEXCHEM', 'BSMXB', 'GRUMAB', 'KIMBERA', 'AC', 'PINFRA', 'IENOVA', 'OMAB', 'PE&OLES', 'ALSEA', 'BBAJIOO', 'MEGACPO', 'LIVEPOLC.1', 'GCC', 'GMXT', 'LALAB', 'GENTERA', 'CUERVO', 'ALPEKA', 'RA', 'LABB', 'MXN']\n",
      "['AMXL', 'FEMSAUBD', 'GFNORTEO', 'WALMEX', 'GMEXICOB', 'CEMEXCPO', 'TLEVISACPO', 'GAPB', 'ELEKTRA', 'ASURB', 'KOFUBL', 'KIMBERA', 'BIMBOA', 'OMAB', 'AC', 'GFINBURO', 'IENOVA', 'PINFRA', 'GRUMAB', 'ORBIA', 'ALFAA', 'GCARSOA1', 'PE&OLES', 'ALSEA', 'BBAJIOO', 'GENTERA', 'MEGACPO', 'LIVEPOLC.1', 'BOLSAA', 'CUERVO', 'LABB', 'GCC', 'BSMXB', 'RA', 'MXN', 'ALPEKA']\n",
      "['AMXL', 'WALMEX', 'FEMSAUBD', 'GFNORTEO', 'GMEXICOB', 'ELEKTRA', 'CEMEXCPO', 'TLEVISACPO', 'BIMBOA', 'KIMBERA', 'KOFUBL', 'GAPB', 'ASURB', 'AC', 'GRUMAB', 'IENOVA', 'GFINBURO', 'PINFRA', 'OMAB', 'ORBIA', 'GCARSOA1', 'PE&OLES', 'MEGACPO', 'ALFAA', 'BOLSAA', 'CUERVO', 'BBAJIOO', 'LABB', 'GCC', 'LIVEPOLC.1', 'MXN', 'GENTERA', 'BSMXB', 'ALSEA', 'RA', 'ALPEKA']\n",
      "['AMXL', 'FEMSAUBD', 'GFNORTEO', 'WALMEX', 'CEMEXCPO', 'GMEXICOB', 'TLEVISACPO', 'ALFAA', 'GAPB', 'ASURB', 'KOFL', 'MEXCHEM', 'AC', 'KIMBERA', 'BIMBOA', 'GFINBURO', 'BSMXB', 'IENOVA', 'GRUMAB', 'PINFRA', 'ELEKTRA', 'OMAB', 'PE&OLES', 'ALSEA', 'MEGACPO', 'GCARSOA1', 'LIVEPOLC.1', 'CUERVO', 'GMXT', 'MXN', 'GENTERA', 'RA', 'LALAB', 'ALPEKA', 'VOLARA', 'NEMAKA']\n",
      "['FEMSAUBD', 'AMXL', 'GFNORTEO', 'WALMEX', 'GMEXICOB', 'CEMEXCPO', 'TLEVISACPO', 'BIMBOA', 'GAPB', 'ELEKTRA', 'KOFUBL', 'ASURB', 'GFINBURO', 'ALFAA', 'KIMBERA', 'BSMXB', 'PINFRA', 'IENOVA', 'MEXCHEM', 'OMAB', 'AC', 'GRUMAB', 'GCARSOA1', 'PE&OLES', 'BBAJIOO', 'MEGACPO', 'LIVEPOLC.1', 'ALSEA', 'GENTERA', 'GCC', 'BOLSAA', 'CUERVO', 'MXN', 'LABB', 'RA', 'ALPEKA']\n",
      "['FEMSAUBD', 'AMXL', 'GFNORTEO', 'WALMEX', 'GMEXICOB', 'CEMEXCPO', 'TLEVISACPO', 'ALFAA', 'GAPB', 'ASURB', 'MEXCHEM', 'KOFL', 'BSMXB', 'GRUMAB', 'GFINBURO', 'AC', 'KIMBERA', 'IENOVA', 'BIMBOA', 'ELEKTRA', 'PINFRA', 'OMAB', 'GCARSOA1', 'PE&OLES', 'MEGACPO', 'ALSEA', 'LIVEPOLC.1', 'GENTERA', 'GMXT', 'CUERVO', 'RA', 'VOLARA', 'ALPEKA', 'LALAB', 'MXN', 'NEMAKA']\n",
      "['FEMSAUBD', 'AMXL', 'GFNORTEO', 'WALMEX', 'GMEXICOB', 'CEMEXCPO', 'TLEVISACPO', 'ELEKTRA', 'GAPB', 'BIMBOA', 'KOFUBL', 'ASURB', 'KIMBERA', 'GFINBURO', 'ALFAA', 'BSMXB', 'OMAB', 'AC', 'IENOVA', 'PINFRA', 'MEXCHEM', 'GRUMAB', 'GCARSOA1', 'BBAJIOO', 'MEGACPO', 'PE&OLES', 'ALSEA', 'LIVEPOLC.1', 'GCC', 'GENTERA', 'CUERVO', 'BOLSAA', 'LABB', 'RA', 'ALPEKA', 'MXN']\n",
      "['AMXL', 'WALMEX', 'FEMSAUBD', 'GFNORTEO', 'GMEXICOB', 'CEMEXCPO', 'ELEKTRA', 'TLEVISACPO', 'BIMBOA', 'GRUMAB', 'GAPB', 'KIMBERA', 'AC', 'KOFUBL', 'ASURB', 'PE&OLES', 'PINFRA', 'ORBIA', 'GFINBURO', 'IENOVA', 'ALFAA', 'OMAB', 'CUERVO', 'GCARSOA1', 'BOLSAA', 'MEGACPO', 'VESTA', 'LABB', 'Q', 'BBAJIOO', 'ALSEA', 'LIVEPOLC.1', 'BSMXB', 'GENTERA', 'RA', 'MXN']\n",
      "['FEMSAUBD', 'AMXL', 'GFNORTEO', 'WALMEX', 'CEMEXCPO', 'GMEXICOB', 'TLEVISACPO', 'ALFAA', 'GAPB', 'ASURB', 'MEXCHEM', 'KOFL', 'ELEKTRA', 'BSMXB', 'GRUMAB', 'GFINBURO', 'KIMBERA', 'BIMBOA', 'IENOVA', 'AC', 'PINFRA', 'OMAB', 'PE&OLES', 'ALSEA', 'GCARSOA1', 'MEGACPO', 'LIVEPOLC.1', 'GENTERA', 'GMXT', 'CUERVO', 'RA', 'VOLARA', 'ALPEKA', 'LALAB', 'NEMAKA', 'MXN']\n",
      "['AMXL', 'GFNORTEO', 'FEMSAUBD', 'WALMEX', 'GMEXICOB', 'CEMEXCPO', 'TLEVISACPO', 'BIMBOA', 'ASURB', 'ALFAA', 'GAPB', 'KOFL', 'GFINBURO', 'MEXCHEM', 'ELEKTRA', 'GRUMAB', 'BSMXB', 'IENOVA', 'KIMBERA', 'PINFRA', 'AC', 'OMAB', 'PE&OLES', 'BBAJIOO', 'ALSEA', 'MEGACPO', 'LIVEPOLC.1', 'GCC', 'GMXT', 'GENTERA', 'CUERVO', 'LALAB', 'ALPEKA', 'RA', 'LABB', 'MXN']\n",
      "['AMXL', 'FEMSAUBD', 'WALMEX', 'GFNORTEO', 'GMEXICOB', 'CEMEXCPO', 'TLEVISACPO', 'ELEKTRA', 'GAPB', 'ASURB', 'KOFUBL', 'KIMBERA', 'BIMBOA', 'GFINBURO', 'ALFAA', 'AC', 'OMAB', 'GRUMAB', 'IENOVA', 'ORBIA', 'PINFRA', 'GCARSOA1', 'PE&OLES', 'ALSEA', 'MEGACPO', 'BBAJIOO', 'GENTERA', 'LIVEPOLC.1', 'BOLSAA', 'GCC', 'CUERVO', 'LABB', 'BSMXB', 'RA', 'ALPEKA', 'MXN']\n",
      "['AMXL', 'FEMSAUBD', 'GFNORTEO', 'WALMEX', 'GMEXICOB', 'CEMEXCPO', 'TLEVISACPO', 'BIMBOA', 'ALFAA', 'GFINBURO', 'KOFL', 'ASURB', 'GAPB', 'ELEKTRA', 'MEXCHEM', 'GRUMAB', 'KIMBERA', 'AC', 'PINFRA', 'BSMXB', 'IENOVA', 'OMAB', 'PE&OLES', 'ALSEA', 'BBAJIOO', 'MEGACPO', 'LIVEPOLC.1', 'GCC', 'GMXT', 'GENTERA', 'CUERVO', 'LALAB', 'ALPEKA', 'RA', 'MXN', 'LABB']\n",
      "['AMXL', 'FEMSAUBD', 'WALMEX', 'GFNORTEO', 'GMEXICOB', 'TLEVISACPO', 'CEMEXCPO', 'GAPB', 'ELEKTRA', 'ASURB', 'KOFUBL', 'KIMBERA', 'BIMBOA', 'GFINBURO', 'OMAB', 'IENOVA', 'ALFAA', 'AC', 'GRUMAB', 'PINFRA', 'ORBIA', 'GCARSOA1', 'ALSEA', 'PE&OLES', 'MEGACPO', 'BBAJIOO', 'GENTERA', 'LIVEPOLC.1', 'BOLSAA', 'CUERVO', 'GCC', 'BSMXB', 'LABB', 'RA', 'ALPEKA', 'MXN']\n"
     ]
    }
   ],
   "source": [
    "# 1.4 Construir el vector de tickers utilizables en yahoo finance functions.py\n",
    "# -- descargar y acomodar los datos\n",
    "ticker = []\n",
    "for i in archivos:\n",
    "    # i = archivos[1]\n",
    "    l_tickers = list(data_archivos[i]['Ticker'])\n",
    "    print(l_tickers)\n",
    "    [ticker.append(i + '.MX') for i in l_tickers]\n",
    "#lista global (todos los datos que vamos a necesitar para descargar)\n",
    "global_tickers = np.unique(ticker).tolist()"
   ]
  },
  {
   "cell_type": "code",
   "execution_count": 10,
   "metadata": {},
   "outputs": [
    {
     "name": "stdout",
     "output_type": "stream",
     "text": [
      "[*********************100%***********************]  39 of 39 completed\n",
      "se tardo 21.3 segundos\n"
     ]
    }
   ],
   "source": [
    "# 1.5 Obtener posiciones historicas main.py\n",
    "global_tickers = [i.replace('GFREGIOO.MX', 'RA.MX') for i in global_tickers]\n",
    "global_tickers = [i.replace('MEXCHEM.MX', 'ORBIA.MX') for i in global_tickers]\n",
    "global_tickers = [i.replace('LIVEPOLC.1.MX', 'LIVEPOLC-1.MX') for i in global_tickers]\n",
    "\n",
    "# ELIMINAR MXN, USD, KOFL y usar como cash\n",
    "#cuando se utiliza KOF, ese % o ponderacion se tiene que pasar a CASH\n",
    "[global_tickers.remove(i) for i in ['MXN.MX', 'USD.MX', 'KOFL.MX', 'KOFUBL.MX', 'BSMXB.MX']]\n",
    "# contar el tiempo que tarda\n",
    "inicio = time.time()\n",
    "# descarga de yahoofinance\n",
    "data = yf.download(global_tickers, start=\"2018-01-31\", end=\"2020-08-25\", actions=False,\n",
    "                   group_by=\"close\", interval='1d', auto_adjust=False, prepost=False, threads=True)\n",
    "\n",
    "print('se tardo', round(time.time() - inicio, 2), 'segundos')\n",
    "#convertir columna de fechas de cierre en un dataframe\n",
    "data_close = pd.DataFrame({i: data[i]['Close'] for i in global_tickers})\n",
    "\n",
    "# tomar solo las fechas de interes y ponerlas en una lista\n",
    "ic_fechas = sorted(list(set(data_close.index.astype(str).tolist()) & set(i_fechas)))\n",
    "\n",
    "#localizar todos los precios (encontrar todos los precios de cada mes)\n",
    "precios = data_close.iloc[[int(np.where(data_close.index.astype(str) == i)[0]) for i in ic_fechas]]\n",
    "\n",
    "# ordenar columnas lexicograficamente\n",
    "precios = precios.reindex(sorted(precios.columns), axis=1)\n",
    "\n",
    "# tomar solo las columnas de interes\n",
    "# transponer matriz para tener x: fechas, y: precios\n",
    "# multiplicar matriz de precios por matriz de pesos\n",
    "# hacer suma de cada columna para obtener valor de mercado"
   ]
  },
  {
   "cell_type": "code",
   "execution_count": 11,
   "metadata": {},
   "outputs": [],
   "source": [
    "# 1.6 posicion inicial main.py\n",
    "#capital inicial\n",
    "k = 1000000\n",
    "#comision\n",
    "c = 0.00125\n",
    "#vector de comisiones historicas\n",
    "comisiones = []\n",
    "\n",
    "# obtener posicion inicial, los % para KOFL, KOFUBL, BSMXB, USD asignarlos a cash\n",
    "#quitar tickers cuando aparezcan. la suma de lo que te gastaste en hace las posiciones de el resto\n",
    "#entonces la diferencia es el CASH\n",
    "c_activos = ['KOFL', 'KOFUBL', 'BSMXB', 'MXN', 'USD']\n",
    "\n",
    "#diccionario para resultado final\n",
    "inv_pasiva = {'timestamp': t_fechas, 'capital': [k]}"
   ]
  },
  {
   "cell_type": "code",
   "execution_count": 13,
   "metadata": {},
   "outputs": [],
   "source": [
    "# ------------------------------------------------------------------------------------------------------------------\n",
    "# 1.7 Evolucion de la postura (Inversion pasiva) visualization.py\n",
    "\n",
    "pos_datos = data_archivos[archivos[0]].copy().sort_values('Ticker')[['Ticker', 'Nombre', 'Peso (%)']]\n",
    "# extraer la lista de activos a eliminar\n",
    "i_activos = list(pos_datos[list(pos_datos['Ticker'].isin(c_activos))].index)\n",
    "# eliminar los activos del dataframe\n",
    "pos_datos.drop(i_activos, inplace=True)\n",
    "# resetear el index\n",
    "pos_datos.reset_index(inplace=True, drop=True)\n",
    "# agregar .MX para empatar precios\n",
    "pos_datos['Ticker'] = pos_datos['Ticker'] + '.MX'\n",
    "#corregir tickers en datos\n",
    "pos_datos['Ticker'] = pos_datos['Ticker'].replace('LIVEPOLC.1.MX', 'LIVEPOLC-1.MX')\n",
    "pos_datos['Ticker'] = pos_datos['Ticker'].replace('MEXCHEM.MX', 'ORBIA.MX')\n",
    "pos_datos['Ticker'] = pos_datos['Ticker'].replace('GFREGIOO.MX', 'RA.MX')\n",
    "# fecha para la que se busca hacer el match de precios\n",
    "match = 0\n",
    "# precios necesarios para la posicion\n",
    "pos_datos['Precio'] = [precios.iloc[match, precios.columns.to_list().index(i)] for i in pos_datos['Ticker']]\n",
    "pos_datos['Capital'] = pos_datos['Peso (%)'] * k - pos_datos['Peso (%)'] * k * c\n",
    "\n",
    "# cantidad de titulos por accion (solo se hace una vez)\n",
    "pos_datos['Titulos'] = pos_datos['Capital'] // pos_datos['Precio']\n",
    "# valor de la postura por accion (solo se hace una vez)\n",
    "pos_datos['Postura'] = pos_datos['Titulos'] * pos_datos['Precio']\n",
    "# comision pagada (solo se hace una vez)\n",
    "pos_datos['Comision'] = pos_datos['Postura'] * c\n",
    "\n",
    "pos_comision = pos_datos['Comision'].sum()\n",
    "pos_cash = k - pos_datos['Postura'].sum() - pos_comision\n",
    "#suma de todas las posiciones\n",
    "pos_value = pos_datos['Postura'].sum()\n",
    "capital = pos_value + pos_cash\n",
    "\n",
    "for i in archivos:\n",
    "    i = archivos.index(i)\n",
    "    match = i\n",
    "    precios.index.to_list()[match]\n",
    "    # precios necesarios para la posicion\n",
    "    m2 = [precios.iloc[match, precios.columns.to_list().index(i)] for i in pos_datos['Ticker']]\n",
    "    pos_datos['Precio'] = m2\n",
    "    #Postura, precio por cantidad de titulos\n",
    "    pos_datos['Postura'] = pos_datos['Titulos'] * pos_datos['Precio']\n",
    "    #suma de todas las posiciones\n",
    "    pos_value = pos_datos['Postura'].sum()\n",
    "    inv_pasiva['capital'].append(pos_value + pos_cash)\n",
    "\n",
    "df_pasiva = pd.DataFrame.from_dict(inv_pasiva, orient='index').transpose()\n",
    "df_pasiva.set_index('timestamp', inplace=True)\n",
    "df_pasiva['rend'] = df_pasiva.pct_change()\n",
    "df_pasiva['rend_acum'] = np.cumsum(df_pasiva['rend'])\n",
    "df_pasiva = df_pasiva.reset_index()\n"
   ]
  },
  {
   "cell_type": "markdown",
   "metadata": {},
   "source": [
    "## DataFrame de la evolución de la inversión pasiva\n"
   ]
  },
  {
   "cell_type": "code",
   "execution_count": 15,
   "metadata": {},
   "outputs": [
    {
     "name": "stdout",
     "output_type": "stream",
     "text": [
      "     timestamp  capital      rend  rend_acum\n",
      "0   31-01-2018  1000000       NaN        NaN\n",
      "1   28-02-2018   998788 -0.001212  -0.001212\n",
      "2   28-03-2018   950932 -0.047914  -0.049126\n",
      "3   30-04-2018   930743 -0.021231  -0.070357\n",
      "4   31-05-2018   976595  0.049264  -0.021093\n",
      "..         ...      ...       ...        ...\n",
      "60         NaN   842601  0.064903  -0.096395\n",
      "61         NaN   828986 -0.016159  -0.112554\n",
      "62         NaN   859937  0.037336  -0.075218\n",
      "63         NaN   844628 -0.017802  -0.093020\n",
      "64         NaN   868668  0.028462  -0.064558\n",
      "\n",
      "[65 rows x 4 columns]\n"
     ]
    }
   ],
   "source": [
    "print(df_pasiva)"
   ]
  },
  {
   "cell_type": "markdown",
   "metadata": {},
   "source": [
    "## 5. Medidas de atribucion al desempeno (rendimiento mensual promedio, rendimiento mensual acumulado, sharpe)"
   ]
  },
  {
   "cell_type": "code",
   "execution_count": 16,
   "metadata": {},
   "outputs": [
    {
     "name": "stdout",
     "output_type": "stream",
     "text": [
      "                     descripcion  inv_pasiva\n",
      "0   Rendimiento mensual promedio   -0.001009\n",
      "1  Rendimiento mensual acumulado   -0.064558\n",
      "2                   Sharpe ratio   -0.020670\n"
     ]
    }
   ],
   "source": [
    "rend_pm = df_pasiva['rend'].mean()\n",
    "rendacumm = df_pasiva['rend'].sum()\n",
    "sharper = rend_pm/df_pasiva['rend'].std()\n",
    "medidas = [['Rendimiento mensual promedio', rend_pm], ['Rendimiento mensual acumulado', rendacumm], ['Sharpe ratio', sharper]]\n",
    "df_medidas = pd.DataFrame(medidas, columns=['descripcion', 'inv_pasiva'])\n",
    "print(df_medidas)"
   ]
  },
  {
   "cell_type": "markdown",
   "metadata": {},
   "source": [
    "# 5. Conclusión\n",
    "#### A partir de este análisis pude conocer a detalle cómo se desarrolla cada tipo de estrategia, lo que implica realizar cada una y lo que implica en el rendimiento final, en la inversión pasiva me di cuenta de lo mucho que importa seleccionar las ponderaciones apropiadas al inicio de la inversión. Y lo mucho que te puedes ahorrar en comisiones. Por otro lado, en la inversión activa a pesar de no haberla representado en el trabajo final, pude entender el reto que significa estar más atento con los cambios diarios del precio y como sacrificas una parte de la ganancia por pagar costos de comisión. \n",
    "#### Al final, como financieros es muy importante que la meta final sea obtener el mayor rendimiento al menor riesgo, pero muchas veces no nos damos cuenta de que hay otros factores que se deben de tomar en cuenta al tomar decisiones, sobre todo al invertir dinero que no nos pertenece, como seguro lo estaremos haciendo muchos de nosotros.\n",
    "#### Tenemos una gran responsabilidad de darle un valor añadido a los clientes, no considero muy positivo solo enfocarse en un benchmark dejando de lado rendimientos absolutos en un sector determinado, vender cuando el mercado va mal y comprar cuando el mercado va bien es hacer lo que todos están haciendo. \n",
    "#### Entonces lo mejor que se puede hacer es ser un administrador que pueda abarcar muchos sectores y encontrar oportunidades de inversión. Porque la volatilidad a pesar de que muchas veces nos hace perder mucho dinero, sin ella no podríamos ganar tampoco, es un factor inevitable, incontrolable e impredecible, entonces si somos un poco más críticos a la hora de invertir el dinero, seguro que nos vamos a posicionar muchísimo mejor si pensamos en añadir valor más que en seguir al mercado.\n"
   ]
  },
  {
   "cell_type": "code",
   "execution_count": null,
   "metadata": {},
   "outputs": [],
   "source": []
  }
 ],
 "metadata": {
  "kernelspec": {
   "display_name": "Python 3",
   "language": "python",
   "name": "python3"
  },
  "language_info": {
   "codemirror_mode": {
    "name": "ipython",
    "version": 3
   },
   "file_extension": ".py",
   "mimetype": "text/x-python",
   "name": "python",
   "nbconvert_exporter": "python",
   "pygments_lexer": "ipython3",
   "version": "3.7.7"
  }
 },
 "nbformat": 4,
 "nbformat_minor": 1
}
